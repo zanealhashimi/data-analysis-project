{
  "cells": [
    {
      "cell_type": "code",
      "source": [
        "#Import plotting and APIs"
      ],
      "metadata": {
        "id": "ToGzBxpPsO7a"
      },
      "execution_count": 205,
      "outputs": []
    },
    {
      "cell_type": "code",
      "execution_count": 206,
      "metadata": {
        "colab": {
          "base_uri": "https://localhost:8080/"
        },
        "id": "-bOdUFMhgtFF",
        "outputId": "b66504f7-60a3-4f92-90e8-dc2098d81ce3",
        "collapsed": true
      },
      "outputs": [
        {
          "output_type": "stream",
          "name": "stdout",
          "text": [
            "Requirement already satisfied: pandas in /usr/local/lib/python3.10/dist-packages (2.1.4)\n",
            "Requirement already satisfied: numpy in /usr/local/lib/python3.10/dist-packages (1.26.4)\n",
            "Requirement already satisfied: matplotlib in /usr/local/lib/python3.10/dist-packages (3.7.1)\n",
            "Requirement already satisfied: seaborn in /usr/local/lib/python3.10/dist-packages (0.13.1)\n",
            "Requirement already satisfied: quandl in /usr/local/lib/python3.10/dist-packages (3.7.0)\n",
            "Requirement already satisfied: python-dateutil>=2.8.2 in /usr/local/lib/python3.10/dist-packages (from pandas) (2.8.2)\n",
            "Requirement already satisfied: pytz>=2020.1 in /usr/local/lib/python3.10/dist-packages (from pandas) (2024.1)\n",
            "Requirement already satisfied: tzdata>=2022.1 in /usr/local/lib/python3.10/dist-packages (from pandas) (2024.1)\n",
            "Requirement already satisfied: contourpy>=1.0.1 in /usr/local/lib/python3.10/dist-packages (from matplotlib) (1.2.1)\n",
            "Requirement already satisfied: cycler>=0.10 in /usr/local/lib/python3.10/dist-packages (from matplotlib) (0.12.1)\n",
            "Requirement already satisfied: fonttools>=4.22.0 in /usr/local/lib/python3.10/dist-packages (from matplotlib) (4.53.1)\n",
            "Requirement already satisfied: kiwisolver>=1.0.1 in /usr/local/lib/python3.10/dist-packages (from matplotlib) (1.4.5)\n",
            "Requirement already satisfied: packaging>=20.0 in /usr/local/lib/python3.10/dist-packages (from matplotlib) (24.1)\n",
            "Requirement already satisfied: pillow>=6.2.0 in /usr/local/lib/python3.10/dist-packages (from matplotlib) (9.4.0)\n",
            "Requirement already satisfied: pyparsing>=2.3.1 in /usr/local/lib/python3.10/dist-packages (from matplotlib) (3.1.2)\n",
            "Requirement already satisfied: requests>=2.7.0 in /usr/local/lib/python3.10/dist-packages (from quandl) (2.32.3)\n",
            "Requirement already satisfied: inflection>=0.3.1 in /usr/local/lib/python3.10/dist-packages (from quandl) (0.5.1)\n",
            "Requirement already satisfied: six in /usr/local/lib/python3.10/dist-packages (from quandl) (1.16.0)\n",
            "Requirement already satisfied: more-itertools in /usr/local/lib/python3.10/dist-packages (from quandl) (10.3.0)\n",
            "Requirement already satisfied: charset-normalizer<4,>=2 in /usr/local/lib/python3.10/dist-packages (from requests>=2.7.0->quandl) (3.3.2)\n",
            "Requirement already satisfied: idna<4,>=2.5 in /usr/local/lib/python3.10/dist-packages (from requests>=2.7.0->quandl) (3.7)\n",
            "Requirement already satisfied: urllib3<3,>=1.21.1 in /usr/local/lib/python3.10/dist-packages (from requests>=2.7.0->quandl) (2.0.7)\n",
            "Requirement already satisfied: certifi>=2017.4.17 in /usr/local/lib/python3.10/dist-packages (from requests>=2.7.0->quandl) (2024.7.4)\n",
            "Requirement already satisfied: nasdaq-data-link in /usr/local/lib/python3.10/dist-packages (1.0.4)\n",
            "Requirement already satisfied: pandas>=0.14 in /usr/local/lib/python3.10/dist-packages (from nasdaq-data-link) (2.1.4)\n",
            "Requirement already satisfied: numpy>=1.8 in /usr/local/lib/python3.10/dist-packages (from nasdaq-data-link) (1.26.4)\n",
            "Requirement already satisfied: requests>=2.7.0 in /usr/local/lib/python3.10/dist-packages (from nasdaq-data-link) (2.32.3)\n",
            "Requirement already satisfied: inflection>=0.3.1 in /usr/local/lib/python3.10/dist-packages (from nasdaq-data-link) (0.5.1)\n",
            "Requirement already satisfied: python-dateutil in /usr/local/lib/python3.10/dist-packages (from nasdaq-data-link) (2.8.2)\n",
            "Requirement already satisfied: six in /usr/local/lib/python3.10/dist-packages (from nasdaq-data-link) (1.16.0)\n",
            "Requirement already satisfied: more-itertools in /usr/local/lib/python3.10/dist-packages (from nasdaq-data-link) (10.3.0)\n",
            "Requirement already satisfied: pytz>=2020.1 in /usr/local/lib/python3.10/dist-packages (from pandas>=0.14->nasdaq-data-link) (2024.1)\n",
            "Requirement already satisfied: tzdata>=2022.1 in /usr/local/lib/python3.10/dist-packages (from pandas>=0.14->nasdaq-data-link) (2024.1)\n",
            "Requirement already satisfied: charset-normalizer<4,>=2 in /usr/local/lib/python3.10/dist-packages (from requests>=2.7.0->nasdaq-data-link) (3.3.2)\n",
            "Requirement already satisfied: idna<4,>=2.5 in /usr/local/lib/python3.10/dist-packages (from requests>=2.7.0->nasdaq-data-link) (3.7)\n",
            "Requirement already satisfied: urllib3<3,>=1.21.1 in /usr/local/lib/python3.10/dist-packages (from requests>=2.7.0->nasdaq-data-link) (2.0.7)\n",
            "Requirement already satisfied: certifi>=2017.4.17 in /usr/local/lib/python3.10/dist-packages (from requests>=2.7.0->nasdaq-data-link) (2024.7.4)\n"
          ]
        }
      ],
      "source": [
        "!pip install pandas numpy matplotlib seaborn quandl\n",
        "!pip install nasdaq-data-link\n",
        "\n",
        "import quandl\n",
        "import pandas as pd\n",
        "import matplotlib.pyplot as plt\n",
        "import seaborn as sns\n",
        "import numpy as py\n",
        "import nasdaqdatalink\n",
        "from sklearn.model_selection import train_test_split\n",
        "from sklearn.ensemble import RandomForestRegressor\n",
        "from sklearn.metrics import mean_absolute_error, r2_score\n",
        "\n",
        "\n"
      ]
    },
    {
      "cell_type": "code",
      "execution_count": 207,
      "metadata": {
        "id": "NywNwaWNhRSj"
      },
      "outputs": [],
      "source": [
        "#API key\n",
        "quandl.ApiConfig.api_key = 'w7AFc1dvax8_m9B59bdk'"
      ]
    },
    {
      "cell_type": "markdown",
      "source": [
        "#Basic Analysis and Overview\n"
      ],
      "metadata": {
        "id": "z3MP52XA-tsj"
      }
    },
    {
      "cell_type": "markdown",
      "source": [
        "##WTI Crude Oil"
      ],
      "metadata": {
        "id": "pic7lhOttwyq"
      }
    },
    {
      "cell_type": "code",
      "source": [
        "\n",
        "# these dataset codes can be changed for different nasdaq tickers, graphs will then need to be renamed individually\n",
        "dataset_code1 = 'CHRIS/CME_CL1' # WTI Crude Oil\n",
        "dataset_code2 = 'CHRIS/CME_NG1' # Natural Gas\n",
        "dataset_code3 = 'CHRIS/ICE_B1'  # Brent Crude Oil\n",
        "dataset_code4 = 'CHRIS/CME_GC1'  #Gold\n",
        "dataset_code5 = 'CHRIS/CME_SI1' # Silver\n",
        "dataset_code6 = 'CHRIS/CME_PL1' # Platimum\n",
        "# these start and end dates can be changed here for the whole program to easily provide different analysis\n",
        "end_date1 = '2021-01-01'\n",
        "WTI_crude_oil = quandl.get(dataset_code1, start_date=start_date1, end_date=end_date1)\n",
        "\n",
        "print(WTI_crude_oil.head())"
      ],
      "metadata": {
        "colab": {
          "base_uri": "https://localhost:8080/"
        },
        "id": "OjQdQ3_Mq-Q5",
        "outputId": "0a289d8c-8caa-4917-ee35-d683fb7c3699"
      },
      "execution_count": 208,
      "outputs": [
        {
          "output_type": "stream",
          "name": "stdout",
          "text": [
            "             Open   High    Low   Last  Change  Settle     Volume  \\\n",
            "Date                                                                \n",
            "2020-01-02  61.60  61.60  60.64  61.18    0.12   61.18   484686.0   \n",
            "2020-01-03  61.18  64.09  61.13  63.04    1.87   63.05   874669.0   \n",
            "2020-01-06  63.71  64.72  62.64  62.83    0.22   63.27   716888.0   \n",
            "2020-01-07  62.91  63.15  62.11  62.69    0.57   62.70   572417.0   \n",
            "2020-01-08  62.84  65.65  59.15  59.98    3.09   59.61  1190608.0   \n",
            "\n",
            "            Previous Day Open Interest  \n",
            "Date                                    \n",
            "2020-01-02                    405868.0  \n",
            "2020-01-03                    397446.0  \n",
            "2020-01-06                    388479.0  \n",
            "2020-01-07                    368505.0  \n",
            "2020-01-08                    355552.0  \n"
          ]
        }
      ]
    },
    {
      "cell_type": "code",
      "source": [
        "plt.figure(figsize=(30,10))\n",
        "plt.plot(crude_oil.index, crude_oil['Settle'], label='Crude Oil Setlle Price')\n",
        "plt.title('Crude Oil Prices')\n",
        "plt.xlabel('Date')\n",
        "plt.ylabel('Price(USD)')\n",
        "plt.legend()\n",
        "plt.show()"
      ],
      "metadata": {
        "colab": {
          "base_uri": "https://localhost:8080/",
          "height": 0
        },
        "id": "KIyY0E3TzgV6",
        "outputId": "2989da28-6d31-42d5-c271-35709493c40b"
      },
      "execution_count": 209,
      "outputs": [
        {
          "output_type": "display_data",
          "data": {
            "text/plain": [
              "<Figure size 3000x1000 with 1 Axes>"
            ],
            "image/png": "[encoded data removed]"
          },
          "metadata": {}
        }
      ]
    },
    {
      "cell_type": "code",
      "source": [
        "WTI_crude_oil['MA_30'] = WTI_crude_oil['Settle'].rolling(window=30).mean()\n",
        "WTI_crude_oil['MA_50'] = WTI_crude_oil['Settle'].rolling(window=50).mean()\n",
        "WTI_crude_oil['MA_150'] = WTI_crude_oil['Settle'].rolling(window=150).mean()"
      ],
      "metadata": {
        "id": "ySv2BvOQ8dyC"
      },
      "execution_count": 210,
      "outputs": []
    },
    {
      "cell_type": "code",
      "source": [
        "WTI_crude_oil['Daily Return'] = WTI_crude_oil['Settle'].pct_change\n",
        "WTI_crude_oil['Volatility'] = WTI_crude_oil['Settle'].rolling(window=50).std()"
      ],
      "metadata": {
        "id": "NcLc97OE9e0P"
      },
      "execution_count": 211,
      "outputs": []
    },
    {
      "cell_type": "code",
      "source": [
        "plt.figure(figsize=(30,10))\n",
        "plt.plot(WTI_crude_oil.index, WTI_crude_oil['Settle'],label='Settle Price')\n",
        "plt.plot(WTI_crude_oil.index, WTI_crude_oil['MA_30'],label='30-day moving average',color='orange')\n",
        "plt.plot(WTI_crude_oil.index, WTI_crude_oil['MA_50'],label='50-day moving average', color='pink')\n",
        "plt.plot(WTI_crude_oil.index, WTI_crude_oil['MA_150'],label='150-day moving average', color='red')\n",
        "plt.title('WTI Crude Oil Prices with Moving averages (2010-2021)')\n",
        "plt.xlabel('Date')\n",
        "plt.ylabel('Price(USD)')\n",
        "plt.legend()\n",
        "output_plot_file = 'WTI_crude_oil_moving_average.png'\n",
        "plt.savefig(output_plot_file)\n",
        "plt.close()\n",
        "print(f\"Plot saved to {output_plot_file}\")"
      ],
      "metadata": {
        "colab": {
          "base_uri": "https://localhost:8080/"
        },
        "id": "T2ooS9-j-Q1A",
        "outputId": "0da4062a-4589-48bc-e01f-98a60c7626bf"
      },
      "execution_count": 212,
      "outputs": [
        {
          "output_type": "stream",
          "name": "stdout",
          "text": [
            "Plot saved to WTI_crude_oil_moving_average.png\n"
          ]
        }
      ]
    },
    {
      "cell_type": "code",
      "source": [
        "plt.figure(figsize=(30,10))\n",
        "plt.plot(WTI_crude_oil.index,WTI_crude_oil['Volatility'],label='Volatility (50-day STD of Returns)',color='purple')\n",
        "plt.title('WTI Crude Oil Historical Volatility')\n",
        "plt.xlabel('Date')\n",
        "plt.ylabel('Volatility')\n",
        "plt.legend()\n",
        "output_plot_file = 'WTI_crude_oil_volatility.png'\n",
        "plt.savefig(output_plot_file)\n",
        "plt.close()\n",
        "print(f\"Plot saved to {output_plot_file}\")\n"
      ],
      "metadata": {
        "colab": {
          "base_uri": "https://localhost:8080/"
        },
        "id": "Uzi7hiJlA5sS",
        "outputId": "5ddf12da-87f5-40ef-ee4d-31bfb0b4fbd0"
      },
      "execution_count": 213,
      "outputs": [
        {
          "output_type": "stream",
          "name": "stdout",
          "text": [
            "Plot saved to WTI_crude_oil_volatility.png\n"
          ]
        }
      ]
    },
    {
      "cell_type": "markdown",
      "source": [
        "##Brent Crude Oil"
      ],
      "metadata": {
        "id": "QrKcydk21NBa"
      }
    },
    {
      "cell_type": "code",
      "source": [
        " brent_crude_oil = quandl.get(dataset_code3, start_date=start_date, end_date=end_date)\n",
        "brent_crude_oil['MA_30'] = brent_crude_oil['Settle'].rolling(window=30).mean()\n",
        "brent_crude_oil['MA_50'] = brent_crude_oil['Settle'].rolling(window=50).mean()\n",
        "brent_crude_oil['MA_150'] = brent_crude_oil['Settle'].rolling(window=150).mean()\n",
        "brent_crude_oil['Daily Return'] = brent_crude_oil['Settle'].pct_change\n",
        "brent_crude_oil['Volatility'] = brent_crude_oil['Settle'].rolling(window=50).std()\n"
      ],
      "metadata": {
        "id": "KLMzbkEJ1PgQ"
      },
      "execution_count": 214,
      "outputs": []
    },
    {
      "cell_type": "code",
      "source": [
        "plt.figure(figsize=(30,10))\n",
        "plt.plot(brent_crude_oil.index, brent_crude_oil['Settle'],label='Settle Price')\n",
        "plt.plot(brent_crude_oil.index, brent_crude_oil['MA_30'], label='30-day moving average',color='orange')\n",
        "plt.plot(brent_crude_oil.index, brent_crude_oil['MA_50'],label='50-day moving average', color='pink')\n",
        "plt.plot(brent_crude_oil.index, brent_crude_oil['MA_150'],label='150-day moving average', color='red')\n",
        "plt.title('brent crude oil Prices with Moving averages (2010-2021)')\n",
        "plt.xlabel('Date')\n",
        "plt.ylabel('Price(USD)')\n",
        "plt.legend()\n",
        "output_plot_file = 'brent_crude_oil_moving_average.png'\n",
        "plt.savefig(output_plot_file)\n",
        "plt.close()\n",
        "print(f\"Plot saved to {output_plot_file}\")"
      ],
      "metadata": {
        "colab": {
          "base_uri": "https://localhost:8080/"
        },
        "id": "2ZdOGfLs2PVI",
        "outputId": "e890f116-2912-4c54-e82d-fb63189954d9"
      },
      "execution_count": 215,
      "outputs": [
        {
          "output_type": "stream",
          "name": "stdout",
          "text": [
            "Plot saved to brent_crude_oil_moving_average.png\n"
          ]
        }
      ]
    },
    {
      "cell_type": "code",
      "source": [
        "plt.figure(figsize=(30,10))\n",
        "plt.plot(brent_crude_oil.index,brent_crude_oil['Volatility'],label='Volatility (50-day STD of Returns)',color='purple')\n",
        "plt.title('brent crude oil Historical Volatility')\n",
        "plt.xlabel('Date')\n",
        "plt.ylabel('Volatility')\n",
        "plt.legend()\n",
        "output_plot_file = 'brent_crude_oil_volatility.png'\n",
        "plt.savefig(output_plot_file)\n",
        "plt.close()\n",
        "print(f\"Plot saved to {output_plot_file}\")"
      ],
      "metadata": {
        "colab": {
          "base_uri": "https://localhost:8080/"
        },
        "id": "dpyKI5Oy2sgj",
        "outputId": "9c60c147-5c6d-433a-db02-2d4edbb98d97"
      },
      "execution_count": 216,
      "outputs": [
        {
          "output_type": "stream",
          "name": "stdout",
          "text": [
            "Plot saved to brent_crude_oil_volatility.png\n"
          ]
        }
      ]
    },
    {
      "cell_type": "markdown",
      "source": [
        "##Natural Gas"
      ],
      "metadata": {
        "id": "ujW3mIHQtqs1"
      }
    },
    {
      "cell_type": "code",
      "source": [
        "\n",
        "natural_gas = quandl.get(dataset_code2, start_date=start_date, end_date=end_date)\n",
        "natural_gas['MA_30'] = natural_gas['Settle'].rolling(window=30).mean()\n",
        "natural_gas['MA_50'] = natural_gas['Settle'].rolling(window=50).mean()\n",
        "natural_gas['MA_150'] = natural_gas['Settle'].rolling(window=150).mean()\n",
        "natural_gas['Daily Return'] = natural_gas['Settle'].pct_change\n",
        "natural_gas['Volatility'] = natural_gas['Settle'].rolling(window=50).std()\n"
      ],
      "metadata": {
        "id": "fXSoRfy7mHLH"
      },
      "execution_count": 217,
      "outputs": []
    },
    {
      "cell_type": "code",
      "source": [
        "plt.figure(figsize=(30,10))\n",
        "plt.plot(natural_gas.index, natural_gas['Settle'],label='Settle Price')\n",
        "plt.plot(natural_gas.index, natural_gas['MA_30'], label='30-day moving average',color='orange')\n",
        "plt.plot(natural_gas.index, natural_gas['MA_50'],label='50-day moving average', color='pink')\n",
        "plt.plot(natural_gas.index, natural_gas['MA_150'],label='150-day moving average', color='red')\n",
        "plt.title('natural gas Prices with Moving averages (2010-2021)')\n",
        "plt.xlabel('Date')\n",
        "plt.ylabel('Price(USD)')\n",
        "plt.legend()\n",
        "output_plot_file = 'natural_gas_moving_average.png'\n",
        "plt.savefig(output_plot_file)\n",
        "plt.close()\n",
        "print(f\"Plot saved to {output_plot_file}\")"
      ],
      "metadata": {
        "colab": {
          "base_uri": "https://localhost:8080/"
        },
        "id": "uNdXuzShw03N",
        "outputId": "9f50217e-b68d-41b6-8fd5-043b1d528d3d"
      },
      "execution_count": 218,
      "outputs": [
        {
          "output_type": "stream",
          "name": "stdout",
          "text": [
            "Plot saved to natural_gas_moving_average.png\n"
          ]
        }
      ]
    },
    {
      "cell_type": "code",
      "source": [
        "plt.figure(figsize=(30,10))\n",
        "plt.plot(natural_gas.index,natural_gas['Volatility'],label='Volatility (50-day STD of Returns)',color='purple')\n",
        "plt.title('natural gas Historical Volatility')\n",
        "plt.xlabel('Date')\n",
        "plt.ylabel('Volatility')\n",
        "plt.legend()\n",
        "output_plot_file = 'natural_gas_volatility.png'\n",
        "plt.savefig(output_plot_file)\n",
        "plt.close()\n",
        "print(f\"Plot saved to {output_plot_file}\")\n"
      ],
      "metadata": {
        "colab": {
          "base_uri": "https://localhost:8080/"
        },
        "id": "TIEl6i24ydUn",
        "outputId": "2511baf5-b19a-4b03-8640-27a32ba5a435"
      },
      "execution_count": 219,
      "outputs": [
        {
          "output_type": "stream",
          "name": "stdout",
          "text": [
            "Plot saved to natural_gas_volatility.png\n"
          ]
        }
      ]
    },
    {
      "cell_type": "markdown",
      "source": [
        "##Gold"
      ],
      "metadata": {
        "id": "OdOEgrr8280C"
      }
    },
    {
      "cell_type": "code",
      "source": [
        "\n",
        "gold = quandl.get(dataset_code4, start_date=start_date, end_date=end_date)\n",
        "gold['MA_30'] = gold['Settle'].rolling(window=30).mean()\n",
        "gold['MA_50'] = gold['Settle'].rolling(window=50).mean()\n",
        "gold['MA_150'] = gold['Settle'].rolling(window=150).mean()\n",
        "gold['Daily Return'] = gold['Settle'].pct_change\n",
        "gold['Volatility'] = gold['Settle'].rolling(window=50).std()"
      ],
      "metadata": {
        "id": "wm-fmXhxyrDv"
      },
      "execution_count": 220,
      "outputs": []
    },
    {
      "cell_type": "code",
      "source": [
        "plt.figure(figsize=(30,10))\n",
        "plt.plot(gold.index, gold['Settle'],label='Settle Price')\n",
        "plt.plot(gold.index, gold['MA_30'], label='30-day moving average',color='orange')\n",
        "plt.plot(gold.index, gold['MA_50'],label='50-day moving average', color='pink')\n",
        "plt.plot(gold.index, gold['MA_150'],label='150-day moving average', color='red')\n",
        "plt.title('gold Prices with Moving averages (2010-2021)')\n",
        "plt.xlabel('Date')\n",
        "plt.ylabel('Price(USD)')\n",
        "plt.legend()\n",
        "output_plot_file = 'gold_moving_average.png'\n",
        "plt.savefig(output_plot_file)\n",
        "plt.close()\n",
        "print(f\"Plot saved to {output_plot_file}\")"
      ],
      "metadata": {
        "colab": {
          "base_uri": "https://localhost:8080/"
        },
        "id": "Daeybl1Y4ZJH",
        "outputId": "b7d92ee4-1698-4c7b-ea4d-3c3e60d3af6c"
      },
      "execution_count": 221,
      "outputs": [
        {
          "output_type": "stream",
          "name": "stdout",
          "text": [
            "Plot saved to gold_moving_average.png\n"
          ]
        }
      ]
    },
    {
      "cell_type": "code",
      "source": [
        "plt.figure(figsize=(30,10))\n",
        "plt.plot(gold.index,gold['Volatility'],label='Volatility (50-day STD of Returns)',color='purple')\n",
        "plt.title('gold Historical Volatility')\n",
        "plt.xlabel('Date')\n",
        "plt.ylabel('Volatility')\n",
        "plt.legend()\n",
        "output_plot_file = 'gold_volatility.png'\n",
        "plt.savefig(output_plot_file)\n",
        "plt.close()\n",
        "print(f\"Plot saved to {output_plot_file}\")"
      ],
      "metadata": {
        "colab": {
          "base_uri": "https://localhost:8080/"
        },
        "id": "3Qp07Y7J4qbj",
        "outputId": "9e949a5d-c75a-4c2d-b00a-4ad683bbfff4"
      },
      "execution_count": 222,
      "outputs": [
        {
          "output_type": "stream",
          "name": "stdout",
          "text": [
            "Plot saved to gold_volatility.png\n"
          ]
        }
      ]
    },
    {
      "cell_type": "markdown",
      "source": [
        "##Silver"
      ],
      "metadata": {
        "id": "4UC0KQL465HK"
      }
    },
    {
      "cell_type": "code",
      "source": [
        "silver = quandl.get(dataset_code5, start_date=start_date, end_date=end_date)\n",
        "silver['MA_30'] = silver['Settle'].rolling(window=30).mean()\n",
        "silver['MA_50'] = silver['Settle'].rolling(window=50).mean()\n",
        "silver['MA_150'] =silver['Settle'].rolling(window=150).mean()\n",
        "silver['Daily Return'] = silver['Settle'].pct_change\n",
        "silver['Volatility'] = silver['Settle'].rolling(window=50).std()"
      ],
      "metadata": {
        "id": "F9_UtPy1644F"
      },
      "execution_count": 223,
      "outputs": []
    },
    {
      "cell_type": "code",
      "source": [
        "plt.figure(figsize=(30,10))\n",
        "plt.plot(silver.index, silver['Settle'],label='Settle Price')\n",
        "plt.plot(silver.index, silver['MA_30'], label='30-day moving average',color='orange')\n",
        "plt.plot(silver.index, silver['MA_50'],label='50-day moving average', color='pink')\n",
        "plt.plot(silver.index, silver['MA_150'],label='150-day moving average', color='red')\n",
        "plt.title('silver Prices with Moving averages (2010-2021)')\n",
        "plt.xlabel('Date')\n",
        "plt.ylabel('Price(USD)')\n",
        "plt.legend()\n",
        "output_plot_file = 'silver_moving_average.png'\n",
        "plt.savefig(output_plot_file)\n",
        "plt.close()\n",
        "print(f\"Plot saved to {output_plot_file}\")"
      ],
      "metadata": {
        "colab": {
          "base_uri": "https://localhost:8080/"
        },
        "id": "5wRxlGrQ7flB",
        "outputId": "a386ddc5-1170-4309-c584-ab080e6ea0a1"
      },
      "execution_count": 224,
      "outputs": [
        {
          "output_type": "stream",
          "name": "stdout",
          "text": [
            "Plot saved to silver_moving_average.png\n"
          ]
        }
      ]
    },
    {
      "cell_type": "code",
      "source": [
        "plt.figure(figsize=(30,10))\n",
        "plt.plot(silver.index,silver['Volatility'],label='Volatility (50-day STD of Returns)',color='purple')\n",
        "plt.title('silver Historical Volatility')\n",
        "plt.xlabel('Date')\n",
        "plt.ylabel('Volatility')\n",
        "plt.legend()\n",
        "output_plot_file = 'silver_volatility.png'\n",
        "plt.savefig(output_plot_file)\n",
        "plt.close()\n",
        "print(f\"Plot saved to {output_plot_file}\")"
      ],
      "metadata": {
        "colab": {
          "base_uri": "https://localhost:8080/"
        },
        "id": "ffV4ln1E7toZ",
        "outputId": "534729a4-e2aa-47f3-d285-5ac04c0f1973"
      },
      "execution_count": 225,
      "outputs": [
        {
          "output_type": "stream",
          "name": "stdout",
          "text": [
            "Plot saved to silver_volatility.png\n"
          ]
        }
      ]
    },
    {
      "cell_type": "markdown",
      "source": [
        "##Platinum"
      ],
      "metadata": {
        "id": "Z3LwDgqT84nF"
      }
    },
    {
      "cell_type": "code",
      "source": [
        "platinum = quandl.get(dataset_code6, start_date=start_date, end_date=end_date)\n",
        "platinum['MA_30'] = platinum['Settle'].rolling(window=30).mean()\n",
        "platinum['MA_50'] = platinum['Settle'].rolling(window=50).mean()\n",
        "platinum['MA_150'] =platinum['Settle'].rolling(window=150).mean()\n",
        "platinum['Daily Return'] = platinum['Settle'].pct_change\n",
        "platinum['Volatility'] = platinum['Settle'].rolling(window=50).std()"
      ],
      "metadata": {
        "id": "jltUB38D83_h"
      },
      "execution_count": 226,
      "outputs": []
    },
    {
      "cell_type": "code",
      "source": [
        "plt.figure(figsize=(30,10))\n",
        "plt.plot(platinum.index, platinum['Settle'],label='Settle Price')\n",
        "plt.plot(platinum.index, platinum['MA_30'], label='30-day moving average',color='orange')\n",
        "plt.plot(platinum.index, platinum['MA_50'],label='50-day moving average', color='pink')\n",
        "plt.plot(platinum.index, platinum['MA_150'],label='150-day moving average', color='red')\n",
        "plt.title('platinum Prices with Moving averages (2010-2021)')\n",
        "plt.xlabel('Date')\n",
        "plt.ylabel('Price(USD)')\n",
        "plt.legend()\n",
        "output_plot_file = 'platinum_moving_average.png'\n",
        "plt.savefig(output_plot_file)\n",
        "plt.close()\n",
        "print(f\"Plot saved to {output_plot_file}\")"
      ],
      "metadata": {
        "colab": {
          "base_uri": "https://localhost:8080/"
        },
        "id": "5CDORewb9L-a",
        "outputId": "b9d58272-f277-4d88-d320-c00e55b28fd5"
      },
      "execution_count": 227,
      "outputs": [
        {
          "output_type": "stream",
          "name": "stdout",
          "text": [
            "Plot saved to platinum_moving_average.png\n"
          ]
        }
      ]
    },
    {
      "cell_type": "code",
      "source": [
        "plt.figure(figsize=(30,10))\n",
        "plt.plot(platinum.index,platinum['Volatility'],label='Volatility (50-day STD of Returns)',color='purple')\n",
        "plt.title('platinum Historical Volatility')\n",
        "plt.xlabel('Date')\n",
        "plt.ylabel('Volatility')\n",
        "plt.legend()\n",
        "output_plot_file = 'platinum_volatility.png'\n",
        "plt.savefig(output_plot_file)\n",
        "plt.close()\n",
        "print(f\"Plot saved to {output_plot_file}\")\n"
      ],
      "metadata": {
        "colab": {
          "base_uri": "https://localhost:8080/"
        },
        "id": "f8a7H5ra9VfQ",
        "outputId": "839cd860-4dca-479c-b78c-037e13b9b8a2"
      },
      "execution_count": 228,
      "outputs": [
        {
          "output_type": "stream",
          "name": "stdout",
          "text": [
            "Plot saved to platinum_volatility.png\n"
          ]
        }
      ]
    },
    {
      "cell_type": "markdown",
      "source": [
        "#Model to predict Returns and Model effectiveness analysis"
      ],
      "metadata": {
        "id": "n-Stqu_s_AY6"
      }
    },
    {
      "cell_type": "markdown",
      "source": [
        "##WTI Crude Oil"
      ],
      "metadata": {
        "id": "UsnW7IVUEhEP"
      }
    },
    {
      "cell_type": "code",
      "source": [
        "\n",
        "WTI_crude_oil['Return'] = WTI_crude_oil['Settle'].pct_change().shift(-1)\n",
        "WTI_crude_oil.dropna(inplace=True)\n",
        "\n",
        "\n",
        "X1 = WTI_crude_oil[['MA_30', 'MA_50', 'Volatility']]\n",
        "y1 = WTI_crude_oil['Return']\n",
        "\n",
        "\n",
        "X1_train, X1_test, y1_train, y1_test = train_test_split(X1, y1, test_size=0.2, random_state=42)\n",
        "\n",
        "\n",
        "model = RandomForestRegressor(n_estimators=100, random_state=42)\n",
        "model.fit(X1_train, y1_train)\n",
        "\n",
        "\n",
        "y1_pred = model.predict(X1_test)\n",
        "\n",
        "\n",
        "mae1 = mean_absolute_error(y1_test, y1_pred)\n",
        "WTI_crude_oil_r2 = r2_score(y1_test, y1_pred)\n",
        "\n",
        "print(f'Mean Absolute Error: {mae1:.4f}')\n",
        "print(f'R-squared: {WTI_crude_oil_r2:.4f}')\n",
        "\n",
        "\n",
        "results = pd.DataFrame({\n",
        "    'Actual': y1_test.reset_index(drop=True),\n",
        "    'Predicted': y1_pred,\n",
        "    'Mean Absolute Error': mae1,\n",
        "    'R-Squared': WTI_crude_oil_r2\n",
        "})\n",
        "\n",
        "\n",
        "results_file = 'prediction_WTI_crude_oil_results.csv'\n",
        "results.to_csv(results_file, index=False)\n",
        "\n",
        "print(f\"Results saved to {results_file}\")\n"
      ],
      "metadata": {
        "colab": {
          "base_uri": "https://localhost:8080/"
        },
        "id": "KWPeDSqL_Es7",
        "outputId": "19f7bd33-b8ee-482e-ed7d-080e08b481df"
      },
      "execution_count": 229,
      "outputs": [
        {
          "output_type": "stream",
          "name": "stdout",
          "text": [
            "Mean Absolute Error: 0.0210\n",
            "R-squared: -0.3191\n",
            "Results saved to prediction_WTI_crude_oil_results.csv\n"
          ]
        }
      ]
    },
    {
      "cell_type": "code",
      "source": [
        "plt.scatter(results['Actual'], results['Predicted'])\n",
        "plt.xlabel('Actual Returns')\n",
        "plt.ylabel('Predicted Returns')\n",
        "plt.title('Actual vs. Predicted Returns')\n",
        "plt.grid(True)\n",
        "plt.show()"
      ],
      "metadata": {
        "colab": {
          "base_uri": "https://localhost:8080/",
          "height": 472
        },
        "id": "PndgRJlZDAzk",
        "outputId": "59d49e49-7655-406a-c949-50f3ccdcb170"
      },
      "execution_count": 230,
      "outputs": [
        {
          "output_type": "display_data",
          "data": {
            "text/plain": [
              "<Figure size 640x480 with 1 Axes>"
            ],
            "image/png": "[encoded data removed]"
          },
          "metadata": {}
        }
      ]
    }
  ],
  "metadata": {
    "colab": {
      "provenance": []
    },
    "kernelspec": {
      "display_name": "Python 3",
      "name": "python3"
    },
    "language_info": {
      "name": "python"
    }
  },
  "nbformat": 4,
  "nbformat_minor": 0
}